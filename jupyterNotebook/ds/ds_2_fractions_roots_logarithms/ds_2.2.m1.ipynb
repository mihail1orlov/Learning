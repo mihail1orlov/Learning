{
 "cells": [
  {
   "cell_type": "code",
   "execution_count": 2,
   "id": "cb9c283b",
   "metadata": {},
   "outputs": [],
   "source": [
    "from sympy import *\n",
    "init_printing(use_unicode=False, wrap_line=False, no_global=True)"
   ]
  },
  {
   "cell_type": "code",
   "execution_count": 3,
   "id": "02113b08",
   "metadata": {},
   "outputs": [
    {
     "data": {
      "image/png": "[encoded data removed]",
      "text/latex": [
       "$\\displaystyle \\frac{1}{x^{9}}$"
      ],
      "text/plain": [
       "1 \n",
       "--\n",
       " 9\n",
       "x "
      ]
     },
     "execution_count": 3,
     "metadata": {},
     "output_type": "execute_result"
    }
   ],
   "source": [
    "x = Symbol('x')\n",
    "exp = ((x**3)**-4)/x**-3\n",
    "exp"
   ]
  },
  {
   "cell_type": "code",
   "execution_count": 4,
   "id": "21226933",
   "metadata": {},
   "outputs": [
    {
     "data": {
      "image/png": "[encoded data removed]",
      "text/latex": [
       "$\\displaystyle \\frac{1}{x^{12}}$"
      ],
      "text/plain": [
       " 1 \n",
       "---\n",
       " 12\n",
       "x  "
      ]
     },
     "execution_count": 4,
     "metadata": {},
     "output_type": "execute_result"
    }
   ],
   "source": [
    "(x**3)**-4\n"
   ]
  },
  {
   "cell_type": "code",
   "execution_count": null,
   "id": "485929de",
   "metadata": {},
   "outputs": [],
   "source": []
  }
 ],
 "metadata": {
  "kernelspec": {
   "display_name": "Python 3 (ipykernel)",
   "language": "python",
   "name": "python3"
  },
  "language_info": {
   "codemirror_mode": {
    "name": "ipython",
    "version": 3
   },
   "file_extension": ".py",
   "mimetype": "text/x-python",
   "name": "python",
   "nbconvert_exporter": "python",
   "pygments_lexer": "ipython3",
   "version": "3.9.12"
  }
 },
 "nbformat": 4,
 "nbformat_minor": 5
}
