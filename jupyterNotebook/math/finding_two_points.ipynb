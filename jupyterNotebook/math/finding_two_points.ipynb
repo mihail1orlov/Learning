{
 "cells": [
  {
   "cell_type": "code",
   "execution_count": 4,
   "id": "021905fb-3026-40ae-aadf-f1047c938e0a",
   "metadata": {},
   "outputs": [
    {
     "data": {
      "image/png": "[encoded data removed]",
      "text/plain": [
       "<Figure size 432x288 with 1 Axes>"
      ]
     },
     "metadata": {
      "needs_background": "light"
     },
     "output_type": "display_data"
    }
   ],
   "source": [
    "import matplotlib.pyplot as plt\n",
    "import numpy as np\n",
    "\n",
    "# Task of finding two points at right angles\n",
    "# Задаем координаты точек A и C\n",
    "A = (1, 3)\n",
    "C = (3, 7)\n",
    "\n",
    "# Возможные значения точки B на оси ординат\n",
    "B_possible_y = [4, 6]\n",
    "\n",
    "# Создаем фигуру и оси\n",
    "fig, ax = plt.subplots()\n",
    "\n",
    "# Отмечаем точки A и C\n",
    "ax.plot(A[0], A[1], 'go', label='A(1, 3)')\n",
    "ax.plot(C[0], C[1], 'go', label='C(3, 7)')\n",
    "\n",
    "# Отмечаем возможные точки B\n",
    "for y in B_possible_y:\n",
    "    ax.plot(0, y, 'bo', label=f'B(0, {y})')\n",
    "\n",
    "# Подписываем оси\n",
    "ax.set_xlabel('X axis')\n",
    "ax.set_ylabel('Y axis')\n",
    "\n",
    "# Устанавливаем интервалы для осей\n",
    "ax.axis('equal')\n",
    "ax.set_xlim(-1, 5)\n",
    "ax.set_ylim(2, 8)\n",
    "\n",
    "# Рисуем линии, чтобы обозначить возможные прямоугольные треугольники\n",
    "for y in B_possible_y:\n",
    "    ax.plot([A[0], 0], [A[1], y], 'b--')  # линия AB\n",
    "    ax.plot([C[0], 0], [C[1], y], 'b--')  # линия BC\n",
    "    ax.plot([A[0], C[0]], [A[1], C[1]], 'g--')  # линия AC\n",
    "\n",
    "# Добавляем легенду\n",
    "ax.legend()\n",
    "\n",
    "# Отображаем график\n",
    "plt.show()\n"
   ]
  },
  {
   "cell_type": "code",
   "execution_count": 5,
   "id": "40ddcb0b-9983-43b4-b03a-fef67f7f9f74",
   "metadata": {},
   "outputs": [
    {
     "data": {
      "text/plain": [
       "[4, 6]"
      ]
     },
     "execution_count": 5,
     "metadata": {},
     "output_type": "execute_result"
    }
   ],
   "source": [
    "from sympy import symbols, Eq, solve, sqrt\n",
    "\n",
    "# Define the symbol for y_B\n",
    "y_B = symbols('y_B')\n",
    "\n",
    "# Coordinates of A and C\n",
    "A = (1, 3)\n",
    "C = (3, 7)\n",
    "\n",
    "# Distance from A to B and C to B (since B is on y-axis, x-coordinate is 0)\n",
    "AB = sqrt((0 - A[0])**2 + (y_B - A[1])**2)\n",
    "BC = sqrt((0 - C[0])**2 + (y_B - C[1])**2)\n",
    "\n",
    "# Distance from A to C is constant\n",
    "AC = sqrt((C[0] - A[0])**2 + (C[1] - A[1])**2)\n",
    "\n",
    "# Equation based on Pythagorean theorem\n",
    "pythagorean_eq = Eq(AB**2 + BC**2, AC**2)\n",
    "\n",
    "# Solve for y_B\n",
    "y_B_solutions = solve(pythagorean_eq, y_B)\n",
    "y_B_solutions"
   ]
  },
  {
   "cell_type": "code",
   "execution_count": null,
   "id": "b3db162e-57d5-4a84-a2fb-b10e5cb30582",
   "metadata": {},
   "outputs": [],
   "source": []
  }
 ],
 "metadata": {
  "kernelspec": {
   "display_name": "Python 3 (ipykernel)",
   "language": "python",
   "name": "python3"
  },
  "language_info": {
   "codemirror_mode": {
    "name": "ipython",
    "version": 3
   },
   "file_extension": ".py",
   "mimetype": "text/x-python",
   "name": "python",
   "nbconvert_exporter": "python",
   "pygments_lexer": "ipython3",
   "version": "3.9.12"
  }
 },
 "nbformat": 4,
 "nbformat_minor": 5
}
