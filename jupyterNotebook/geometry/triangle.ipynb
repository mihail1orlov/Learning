{
 "cells": [
  {
   "cell_type": "code",
   "execution_count": 1,
   "id": "de611ce1-c9ed-47fd-a2da-5a909c125006",
   "metadata": {},
   "outputs": [
    {
     "data": {
      "image/png": "[encoded data removed]",
      "text/plain": [
       "<Figure size 432x288 with 1 Axes>"
      ]
     },
     "metadata": {
      "needs_background": "light"
     },
     "output_type": "display_data"
    }
   ],
   "source": [
    "import matplotlib.pyplot as plt\n",
    "\n",
    "# Задані сторони трикутника\n",
    "hypotenuse = 200  # Гіпотенуза\n",
    "opposite = 100  # Перший катет\n",
    "adjacent = 100 * (3 ** 0.5)  # Другий катет\n",
    "\n",
    "# Визначення координат вершин трикутника\n",
    "A = [0, 0]  # Вершина A (початок координат)\n",
    "B = [adjacent, opposite]  # Вершина B (ліва нижня)\n",
    "C = [adjacent, 0]  # Вершина C (права верхня)\n",
    "\n",
    "# Побудова трикутника\n",
    "plt.plot([A[0], B[0]], [A[1], B[1]], 'b')  # AB (гіпотенуза)\n",
    "plt.plot([B[0], C[0]], [B[1], C[1]], 'r')  # BC (лівий катет)\n",
    "plt.plot([C[0], A[0]], [C[1], A[1]], 'g')  # CA (правий катет)\n",
    "\n",
    "# Підписи вершин\n",
    "plt.text(A[0], A[1], 'A', fontsize=12, ha='right', va='top')\n",
    "plt.text(B[0], B[1], 'B', fontsize=12, ha='left', va='bottom')\n",
    "plt.text(C[0], C[1], 'C', fontsize=12, ha='left', va='bottom')\n",
    "\n",
    "# Додавання кутів\n",
    "alpha = 30  # Ваш кут альфа в градусах\n",
    "beta = 60  # Ваш кут бета в градусах\n",
    "alpha_text = f'α = {alpha}°'\n",
    "beta_text = f'β = {beta}°'\n",
    "plt.text(A[0] + 20, A[1] + 3, alpha_text, fontsize=10, ha='left', va='bottom')\n",
    "plt.text(B[0] - 25, B[1] - 25, beta_text, fontsize=10, ha='left', va='bottom')\n",
    "\n",
    "# Налаштування графіку\n",
    "plt.gca().set_aspect('equal', adjustable='box')  # Збереження пропорційності\n",
    "plt.grid(True)\n",
    "\n",
    "# Відображення графіку\n",
    "plt.show()"
   ]
  },
  {
   "cell_type": "code",
   "execution_count": 12,
   "id": "cf1a0eee-df52-4dd8-8993-d92f3c2f820c",
   "metadata": {},
   "outputs": [
    {
     "name": "stdout",
     "output_type": "stream",
     "text": [
      "Hypotenuse = 200.0\n",
      "Opposite = 100.0\n",
      "Adjacent = 173.20508075688772\n"
     ]
    }
   ],
   "source": [
    "import math\n",
    "\n",
    "# Обчислення за теоремою Піфагора\n",
    "print(\"Hypotenuse =\", math.sqrt(opposite**2 + adjacent**2))\n",
    "print(\"Opposite =\", math.sqrt(hypotenuse**2 - adjacent**2))\n",
    "print(\"Adjacent =\", math.sqrt(hypotenuse**2 - opposite**2))"
   ]
  },
  {
   "cell_type": "code",
   "execution_count": 30,
   "id": "27fcb440-b1e4-4310-a102-d93627d678d4",
   "metadata": {},
   "outputs": [
    {
     "name": "stdout",
     "output_type": "stream",
     "text": [
      "Hypotenuse = 199.99999999999997\n",
      "Opposite = 99.99999999999999 ( 100.0 )\n",
      "Adjacent = 173.20508075688775 ( 100*3^0.5 )\n"
     ]
    }
   ],
   "source": [
    "# Переведення градусів в радіани, якщо α вказаний в градусах\n",
    "alpha_rad = math.radians(alpha)\n",
    "\n",
    "print(\"Hypotenuse =\", adjacent/math.cos(alpha_rad))\n",
    "\n",
    "# sin(30°) = 1/2\n",
    "print(\"Opposite =\", hypotenuse * math.sin(alpha_rad), \"(\", hypotenuse * 1/2, \")\")\n",
    "print(\"Adjacent =\", hypotenuse * math.cos(alpha_rad), \"( 100*3^0.5 )\")"
   ]
  },
  {
   "cell_type": "code",
   "execution_count": null,
   "id": "e675adbc-46cf-4c4f-ad07-3cbc8fdfbc90",
   "metadata": {},
   "outputs": [],
   "source": []
  },
  {
   "cell_type": "code",
   "execution_count": null,
   "id": "1daef878-2204-416b-aefe-eb2fd64884b9",
   "metadata": {},
   "outputs": [],
   "source": []
  }
 ],
 "metadata": {
  "kernelspec": {
   "display_name": "Python 3 (ipykernel)",
   "language": "python",
   "name": "python3"
  },
  "language_info": {
   "codemirror_mode": {
    "name": "ipython",
    "version": 3
   },
   "file_extension": ".py",
   "mimetype": "text/x-python",
   "name": "python",
   "nbconvert_exporter": "python",
   "pygments_lexer": "ipython3",
   "version": "3.9.12"
  }
 },
 "nbformat": 4,
 "nbformat_minor": 5
}
