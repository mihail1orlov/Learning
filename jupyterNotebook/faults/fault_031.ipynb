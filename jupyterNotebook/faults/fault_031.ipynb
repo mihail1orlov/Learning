{
 "cells": [
  {
   "cell_type": "code",
   "execution_count": 28,
   "id": "3b2c7e11-83bc-4a38-a40b-35007283aa6a",
   "metadata": {},
   "outputs": [
    {
     "name": "stdout",
     "output_type": "stream",
     "text": [
      "False\n",
      "False\n",
      "False\n"
     ]
    },
    {
     "data": {
      "image/png": "[encoded data removed]",
      "text/plain": [
       "<Figure size 432x288 with 1 Axes>"
      ]
     },
     "metadata": {
      "needs_background": "light"
     },
     "output_type": "display_data"
    }
   ],
   "source": [
    "import matplotlib.pyplot as plt\n",
    "import numpy as np\n",
    "\n",
    "class Line:\n",
    "    def __init__(self, A, B, C):\n",
    "        self.A = A\n",
    "        self.B = B\n",
    "        self.C = C\n",
    "\n",
    "    def is_positive_side(self, x, y):\n",
    "        return (self.A * x + self.B * y - self.C) >= 0\n",
    "\n",
    "line = Line(-57.28996163075955, 1.0, 580500.3305876505)\n",
    "\n",
    "'''\n",
    "md = 10002.000000001324\n",
    "tvd = 7486.134356717739\n",
    "\n",
    "md = 9999.000000001313\n",
    "tvd = 10199.8134765625\n",
    "\n",
    "md = 10002.000000001324\n",
    "tvd = 10199.5546875\n",
    "'''\n",
    "\n",
    "points = [(9999.000000001313, 10199.8134765625), (10002.000000001324, 7486.134356717739), (10002.000000001324, 10199.5546875)]\n",
    "\n",
    "for md, tvd in points:\n",
    "    print(line.is_positive_side(md, tvd))\n",
    "\n",
    "x = np.linspace(9995, 10010, 10020)\n",
    "y = (line.C - line.A * x) / line.B\n",
    "\n",
    "plt.plot(x, y, '-r', label='Line')\n",
    "\n",
    "for i, (md, tvd) in enumerate(points):\n",
    "    plt.plot(md, tvd, 'bo')\n",
    "    plt.text(md, tvd, f'P: {i + 1}')\n",
    "\n",
    "plt.title('Line with points')\n",
    "plt.xlabel('md')\n",
    "plt.ylabel('tvd')\n",
    "plt.legend(loc='best')\n",
    "plt.grid()\n",
    "plt.show()\n"
   ]
  },
  {
   "cell_type": "code",
   "execution_count": null,
   "id": "43f1c024-b16a-417e-9180-4a624422b2b9",
   "metadata": {},
   "outputs": [],
   "source": []
  }
 ],
 "metadata": {
  "kernelspec": {
   "display_name": "Python 3 (ipykernel)",
   "language": "python",
   "name": "python3"
  },
  "language_info": {
   "codemirror_mode": {
    "name": "ipython",
    "version": 3
   },
   "file_extension": ".py",
   "mimetype": "text/x-python",
   "name": "python",
   "nbconvert_exporter": "python",
   "pygments_lexer": "ipython3",
   "version": "3.9.12"
  }
 },
 "nbformat": 4,
 "nbformat_minor": 5
}
