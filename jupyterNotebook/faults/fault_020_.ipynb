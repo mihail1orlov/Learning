{
 "cells": [
  {
   "cell_type": "code",
   "execution_count": 16,
   "id": "bdb359ce-2315-435d-855f-26c4a50628fe",
   "metadata": {},
   "outputs": [
    {
     "data": {
      "image/png": "[encoded data removed]",
      "text/plain": [
       "<Figure size 432x288 with 1 Axes>"
      ]
     },
     "metadata": {
      "needs_background": "light"
     },
     "output_type": "display_data"
    }
   ],
   "source": [
    "import numpy as np\n",
    "import matplotlib.pyplot as plt\n",
    "\n",
    "# Константы\n",
    "start_x = -10000\n",
    "end_x = -20000\n",
    "levels = [-7700, -8000, -8100, -8200]\n",
    "vert_len = 100\n",
    "fault_A = 0.577\n",
    "fault_B = 1\n",
    "fault_C = -1617  # Значение изменено на отрицательное\n",
    "\n",
    "# Функция для нахождения точек пересечения\n",
    "def line_intersection(a1, b1, c1, a2, b2, c2):\n",
    "    x = (b1*c2 - b2*c1) / (a1*b2 - a2*b1)\n",
    "    y = (a1*c2 - a2*c1) / (a1*b2 - a2*b1)\n",
    "    return x, y\n",
    "\n",
    "# Рисование горизонтальных линий\n",
    "for level in levels:\n",
    "    plt.hlines(y=level, xmin=start_x, xmax=end_x, color='blue')\n",
    "\n",
    "# Рисование линии разлома\n",
    "x = np.linspace(start_x, end_x, 400)\n",
    "y = (-fault_A * x + fault_C) / fault_B\n",
    "plt.plot(x, y, color='red')\n",
    "\n",
    "# Расчет и рисование треугольников\n",
    "for level in levels:\n",
    "    intersec_x, intersec_y = line_intersection(fault_A, fault_B, fault_C, 0, 1, level)\n",
    "    dx = vert_len / np.tan(np.arctan(fault_A/fault_B))\n",
    "    plt.plot([intersec_x, intersec_x], [intersec_y, intersec_y - vert_len], color='green')\n",
    "    plt.plot([intersec_x, intersec_x + dx], [intersec_y - vert_len, intersec_y], color='green')\n",
    "\n",
    "plt.gca().set_aspect('equal', adjustable='box')\n",
    "plt.xlim(start_x, end_x)  # Set the x-axis limits\n",
    "plt.ylim(min(levels)-1000, max(levels)+1000)  # Set the y-axis limits\n",
    "plt.xlabel('x')\n",
    "plt.ylabel('y')\n",
    "plt.title('Horizontal Lines and Intersection Line')\n",
    "plt.grid(True)\n",
    "plt.show()\n"
   ]
  },
  {
   "cell_type": "code",
   "execution_count": null,
   "id": "09568c56-f8b0-421d-9681-621fa41a7aed",
   "metadata": {},
   "outputs": [],
   "source": []
  }
 ],
 "metadata": {
  "kernelspec": {
   "display_name": "Python 3 (ipykernel)",
   "language": "python",
   "name": "python3"
  },
  "language_info": {
   "codemirror_mode": {
    "name": "ipython",
    "version": 3
   },
   "file_extension": ".py",
   "mimetype": "text/x-python",
   "name": "python",
   "nbconvert_exporter": "python",
   "pygments_lexer": "ipython3",
   "version": "3.9.12"
  }
 },
 "nbformat": 4,
 "nbformat_minor": 5
}
