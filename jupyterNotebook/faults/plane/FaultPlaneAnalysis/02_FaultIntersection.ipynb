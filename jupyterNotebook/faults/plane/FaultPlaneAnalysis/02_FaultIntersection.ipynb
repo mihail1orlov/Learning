{
 "cells": [
  {
   "cell_type": "code",
   "execution_count": 1,
   "id": "12865cbe-14df-4984-89f3-e432eff5dce5",
   "metadata": {},
   "outputs": [
    {
     "ename": "NameError",
     "evalue": "name 'surface' is not defined",
     "output_type": "error",
     "traceback": [
      "\u001b[0;31m---------------------------------------------------------------------------\u001b[0m",
      "\u001b[0;31mNameError\u001b[0m                                 Traceback (most recent call last)",
      "Input \u001b[0;32mIn [1]\u001b[0m, in \u001b[0;36m<cell line: 31>\u001b[0;34m()\u001b[0m\n\u001b[1;32m     28\u001b[0m     plt\u001b[38;5;241m.\u001b[39mshow()\n\u001b[1;32m     30\u001b[0m \u001b[38;5;66;03m# Визуализация\u001b[39;00m\n\u001b[0;32m---> 31\u001b[0m plot_surface_and_fault(\u001b[43msurface\u001b[49m, fault_point, normal_vector, intersections)\n",
      "\u001b[0;31mNameError\u001b[0m: name 'surface' is not defined"
     ]
    }
   ],
   "source": [
    "import matplotlib.pyplot as plt\n",
    "from mpl_toolkits.mplot3d import Axes3D\n",
    "\n",
    "def plot_surface_and_fault(surface, fault_point, normal_vector, intersections):\n",
    "    fig = plt.figure()\n",
    "    ax = fig.add_subplot(111, projection='3d')\n",
    "\n",
    "    # Визуализация поверхности\n",
    "    for row in surface.surfaceGrid:\n",
    "        xs, ys, zs = zip(*row)\n",
    "        ax.scatter(xs, ys, zs, color='b')\n",
    "\n",
    "    # Визуализация точки разлома\n",
    "    ax.scatter(*fault_point, color='r')\n",
    "\n",
    "    # Визуализация плоскости разлома\n",
    "    point = np.array(fault_point)\n",
    "    d = -point.dot(normal_vector)\n",
    "    xx, yy = np.meshgrid(range(int(surface.minEast), int(surface.maxEast)), range(int(surface.minNorth), int(surface.maxNorth)))\n",
    "    zz = (-normal_vector[0] * xx - normal_vector[1] * yy - d) * 1. /normal_vector[2]\n",
    "    ax.plot_surface(xx, yy, zz, alpha=0.2)\n",
    "\n",
    "    # Визуализация точек пересечения\n",
    "    if intersections:\n",
    "        ix, iy, iz = zip(*intersections)\n",
    "        ax.scatter(ix, iy, iz, color='g')\n",
    "\n",
    "    plt.show()\n",
    "\n",
    "# Визуализация\n",
    "plot_surface_and_fault(surface, fault_point, normal_vector, intersections)\n"
   ]
  },
  {
   "cell_type": "code",
   "execution_count": null,
   "id": "97d1bc01-c276-410b-8cbe-f722115885ba",
   "metadata": {},
   "outputs": [],
   "source": []
  }
 ],
 "metadata": {
  "kernelspec": {
   "display_name": "Python 3 (ipykernel)",
   "language": "python",
   "name": "python3"
  },
  "language_info": {
   "codemirror_mode": {
    "name": "ipython",
    "version": 3
   },
   "file_extension": ".py",
   "mimetype": "text/x-python",
   "name": "python",
   "nbconvert_exporter": "python",
   "pygments_lexer": "ipython3",
   "version": "3.9.12"
  }
 },
 "nbformat": 4,
 "nbformat_minor": 5
}
