{
 "cells": [
  {
   "cell_type": "code",
   "execution_count": 3,
   "id": "12865cbe-14df-4984-89f3-e432eff5dce5",
   "metadata": {},
   "outputs": [
    {
     "name": "stdout",
     "output_type": "stream",
     "text": [
      "[]\n"
     ]
    }
   ],
   "source": [
    "import numpy as np\n",
    "\n",
    "class Surface:\n",
    "    def __init__(self, min_east, min_north, max_east, max_north, num_rows, num_cols, surface_grid):\n",
    "        self.minEast = min_east\n",
    "        self.minNorth = min_north\n",
    "        self.maxEast = max_east\n",
    "        self.maxNorth = max_north\n",
    "        self.numRows = num_rows\n",
    "        self.numCols = num_cols\n",
    "        self.surfaceGrid = surface_grid\n",
    "\n",
    "def calculate_normal_vector(strike, dip):\n",
    "    strike_rad = np.radians(strike)\n",
    "    dip_rad = np.radians(dip)\n",
    "\n",
    "    normal_vector = [\n",
    "        np.sin(strike_rad) * np.sin(dip_rad),\n",
    "        -np.cos(strike_rad) * np.sin(dip_rad),\n",
    "        np.cos(dip_rad)\n",
    "    ]\n",
    "    return normal_vector\n",
    "\n",
    "def find_fault_intersection(surface, fault_point, normal_vector, threshold):\n",
    "    intersections = []\n",
    "    for row in surface.surfaceGrid:\n",
    "        for point in row:\n",
    "            distance = np.dot(normal_vector, np.subtract(point, fault_point))\n",
    "            if abs(distance) < threshold:\n",
    "                intersections.append(point)\n",
    "    return intersections\n",
    "\n",
    "# Пример использования\n",
    "surface = Surface(0, 0, 100, 100, 10, 10, np.random.rand(10, 10, 3))  # Пример поверхности\n",
    "fault_point = [50, 50, 0]  # Пример точки разлома\n",
    "dip_angle = 45\n",
    "strike_angle = 90\n",
    "threshold = 1.0  # Установите пороговое значение в зависимости от масштаба данных\n",
    "\n",
    "normal_vector = calculate_normal_vector(strike_angle, dip_angle)\n",
    "intersections = find_fault_intersection(surface, fault_point, normal_vector, threshold)\n",
    "\n",
    "print(intersections)\n"
   ]
  },
  {
   "cell_type": "code",
   "execution_count": null,
   "id": "97d1bc01-c276-410b-8cbe-f722115885ba",
   "metadata": {},
   "outputs": [],
   "source": []
  }
 ],
 "metadata": {
  "kernelspec": {
   "display_name": "Python 3 (ipykernel)",
   "language": "python",
   "name": "python3"
  },
  "language_info": {
   "codemirror_mode": {
    "name": "ipython",
    "version": 3
   },
   "file_extension": ".py",
   "mimetype": "text/x-python",
   "name": "python",
   "nbconvert_exporter": "python",
   "pygments_lexer": "ipython3",
   "version": "3.9.12"
  }
 },
 "nbformat": 4,
 "nbformat_minor": 5
}
