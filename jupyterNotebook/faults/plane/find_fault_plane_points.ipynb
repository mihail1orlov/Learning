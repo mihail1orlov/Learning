{
 "cells": [
  {
   "cell_type": "code",
   "execution_count": 1,
   "id": "a1bdbc45-d3d6-4717-98e7-d75ccb0582dd",
   "metadata": {},
   "outputs": [
    {
     "name": "stdout",
     "output_type": "stream",
     "text": [
      "Точка 1: [0 0 0]\n",
      "Точка 2: [1.000000e+00 6.123234e-17 0.000000e+00]\n",
      "Точка 3: [ 7.07106781e-01 -4.32978028e-17  7.07106781e-01]\n"
     ]
    }
   ],
   "source": [
    "import numpy as np\n",
    "\n",
    "def find_fault_plane_points(strike, dip, fault_point):\n",
    "    # Преобразование углов в радианы\n",
    "    strike_rad = np.radians(strike)\n",
    "    dip_rad = np.radians(dip)\n",
    "\n",
    "    # Вектор нормали к плоскости разлома\n",
    "    normal_vector = [\n",
    "        np.sin(strike_rad) * np.sin(dip_rad),\n",
    "        -np.cos(strike_rad) * np.sin(dip_rad),\n",
    "        np.cos(dip_rad)\n",
    "    ]\n",
    "\n",
    "    # Вычисление двух дополнительных точек на плоскости разлома\n",
    "    point2 = np.array(fault_point) + np.array([np.sin(strike_rad), np.cos(strike_rad), 0])\n",
    "    point3 = np.array(fault_point) + np.array(normal_vector)\n",
    "\n",
    "    return np.array(fault_point), point2, point3\n",
    "\n",
    "# Пример данных\n",
    "fault_point = [0, 0, 0]  # Точка разлома (x, y, z)\n",
    "dip_angle = 45           # Угол падения в градусах\n",
    "strike_angle = 90        # Направление в градусах\n",
    "\n",
    "# Получение трех точек\n",
    "point1, point2, point3 = find_fault_plane_points(strike_angle, dip_angle, fault_point)\n",
    "\n",
    "print(\"Точка 1:\", point1)\n",
    "print(\"Точка 2:\", point2)\n",
    "print(\"Точка 3:\", point3)\n"
   ]
  },
  {
   "cell_type": "code",
   "execution_count": null,
   "id": "f5b5933b-502c-450c-98fc-9a122ce19fcf",
   "metadata": {},
   "outputs": [],
   "source": []
  }
 ],
 "metadata": {
  "kernelspec": {
   "display_name": "Python 3 (ipykernel)",
   "language": "python",
   "name": "python3"
  },
  "language_info": {
   "codemirror_mode": {
    "name": "ipython",
    "version": 3
   },
   "file_extension": ".py",
   "mimetype": "text/x-python",
   "name": "python",
   "nbconvert_exporter": "python",
   "pygments_lexer": "ipython3",
   "version": "3.9.12"
  }
 },
 "nbformat": 4,
 "nbformat_minor": 5
}
