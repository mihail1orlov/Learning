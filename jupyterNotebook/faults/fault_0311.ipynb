{
 "cells": [
  {
   "cell_type": "code",
   "execution_count": 114,
   "id": "3b2c7e11-83bc-4a38-a40b-35007283aa6a",
   "metadata": {},
   "outputs": [
    {
     "name": "stdout",
     "output_type": "stream",
     "text": [
      "isPositive: True\n",
      "isPositive: False\n",
      "isPositive: False\n",
      "isPositive: True\n",
      "isPositive: True\n",
      "min x: 9000.0, max x: 11000.0\n",
      "line: A: 0, B: -1000, C: -10000000\n"
     ]
    },
    {
     "data": {
      "image/png": "[encoded data removed]",
      "text/plain": [
       "<Figure size 432x288 with 1 Axes>"
      ]
     },
     "metadata": {
      "needs_background": "light"
     },
     "output_type": "display_data"
    }
   ],
   "source": [
    "import matplotlib.pyplot as plt\n",
    "import numpy as np\n",
    "\n",
    "class Line:\n",
    "    def __init__(self, A, B, C):\n",
    "        self.A = A\n",
    "        self.B = B\n",
    "        self.C = C\n",
    "    \n",
    "    @staticmethod\n",
    "    def from_two_points(x1, y1, x2, y2):\n",
    "        if x1 == x2:  # Avoid division by zero\n",
    "            return Line(1, 0, x1)\n",
    "        A = -(y2 - y1)\n",
    "        B = x2 - x1\n",
    "        C = A * x1 + B * y1\n",
    "        return Line(A, B, C)\n",
    "\n",
    "    @staticmethod\n",
    "    def from_angle_point(angle, px, py):\n",
    "        if abs(angle - 90) < 0.01 or abs(angle + 90) < 0.01:\n",
    "            A = 1\n",
    "            B = 0\n",
    "            C = -px\n",
    "        else:\n",
    "            # Convert angle from degrees to radians\n",
    "            angle_rad = np.deg2rad(angle)\n",
    "            A = np.tan(angle_rad)\n",
    "            B = -1\n",
    "            C = py - A * px\n",
    "        return Line(A, B, C)\n",
    "\n",
    "    def is_positive_side(self, x, y):\n",
    "        # If the value of A*x + B*y - C is greater or equal to zero, \n",
    "        # the point lies on the positive side of the line\n",
    "        return (self.A * x + self.B * y - self.C) >= 0\n",
    "\n",
    "points = [\n",
    "    (9999.000000001313, 10199.8134765625),\n",
    "    (10002.000000001324, 7486.134356717739),\n",
    "    (10000, 9000),\n",
    "    (11000, 10000),\n",
    "    (10002.000000001324, 10199.5546875)\n",
    "]\n",
    "\n",
    "# Print whether each point is on the positive side of the line\n",
    "for md, tvd in points:\n",
    "    print(f'isPositive: {line.is_positive_side(md, tvd)}')\n",
    "\n",
    "# Plot the line\n",
    "x = np.linspace(8000, 11000, 10)\n",
    "print(f'min x: {min(x)}, max x: {max(x)}')\n",
    "\n",
    "###\n",
    "# Initialize the line with the given coefficients\n",
    "\n",
    "# A vertical line at x = 10000\n",
    "#line = Line(1, 0, -10000)\n",
    "#line = Line(1, 0, -10001.00000000132)\n",
    "\n",
    "# a horizontal line\n",
    "#line = Line(-0.5587890625, -3.400000000010914, -34187.07226573666)\n",
    "#surfaceLine\n",
    "#line = Line(-0.2587890625, -3.000000000010914, -33187.07226573666)\n",
    "\n",
    "\n",
    "#line = Line(-57.28996163075955, 1.0, 580500.3305876505)\n",
    "#line = Line.from_angle_point(45, 9000, 10000)\n",
    "#line = Line.from_angle_point(45, 10000, 9000)\n",
    "\n",
    "line = Line.from_two_points(10000, 10000, 9000, 10000)\n",
    "print(f'line: A: {line.A}, B: {line.B}, C: {line.C}')\n",
    "###\n",
    "\n",
    "# If B is not zero, compute y normally. Otherwise, draw a vertical line.\n",
    "if line.B != 0:\n",
    "    y = (line.C - line.A * x) / line.B\n",
    "    plt.plot(x, y, '-g', label='Line')\n",
    "else:\n",
    "    plt.axvline(x=-line.C / line.A, color='r', label='Line')\n",
    "\n",
    "# Plot the points and label them\n",
    "for i, (md, tvd) in enumerate(points):\n",
    "    plt.plot(md, tvd, 'bo')\n",
    "    plt.text(md, tvd, f'P: {i + 1}')\n",
    "\n",
    "plt.title('Line with points')\n",
    "plt.xlabel('md')\n",
    "plt.ylabel('tvd')\n",
    "plt.legend(loc='best')\n",
    "plt.grid()\n",
    "\n",
    "# Set the y-axis limits to properly display the points\n",
    "#plt.ylim(7000, 11000)\n",
    "\n",
    "plt.show()\n"
   ]
  },
  {
   "cell_type": "code",
   "execution_count": null,
   "id": "43f1c024-b16a-417e-9180-4a624422b2b9",
   "metadata": {},
   "outputs": [],
   "source": []
  }
 ],
 "metadata": {
  "kernelspec": {
   "display_name": "Python 3 (ipykernel)",
   "language": "python",
   "name": "python3"
  },
  "language_info": {
   "codemirror_mode": {
    "name": "ipython",
    "version": 3
   },
   "file_extension": ".py",
   "mimetype": "text/x-python",
   "name": "python",
   "nbconvert_exporter": "python",
   "pygments_lexer": "ipython3",
   "version": "3.9.12"
  }
 },
 "nbformat": 4,
 "nbformat_minor": 5
}
