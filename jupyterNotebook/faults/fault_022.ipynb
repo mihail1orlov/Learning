{
 "cells": [
  {
   "cell_type": "code",
   "execution_count": 8,
   "id": "3b2c7e11-83bc-4a38-a40b-35007283aa6a",
   "metadata": {},
   "outputs": [
    {
     "data": {
      "image/png": "[encoded data removed]",
      "text/plain": [
       "<Figure size 432x288 with 1 Axes>"
      ]
     },
     "metadata": {
      "needs_background": "light"
     },
     "output_type": "display_data"
    },
    {
     "name": "stdout",
     "output_type": "stream",
     "text": [
      "triangle_points: [[ 40.         100.        ]\n",
      " [ 40.           0.        ]\n",
      " [ 22.36730193   0.        ]]\n"
     ]
    }
   ],
   "source": [
    "import matplotlib.pyplot as plt\n",
    "import numpy as np\n",
    "\n",
    "# Задаем начальную точку, длину вертикального катета и угол наклона\n",
    "start_point = np.array([40, 100])  # начальная точка (x, y)\n",
    "vertical_leg = 100  # длина вертикального катета\n",
    "angle_v = 80  # угол наклона в градусах\n",
    "\n",
    "# меняем ось отсчета угла\n",
    "angle = 90 - angle_v\n",
    "\n",
    "# Переводим угол в радианы\n",
    "angle_rad = np.radians(angle)\n",
    "\n",
    "\n",
    "### rectangle\n",
    "# Вычисляем длину горизонтального катета\n",
    "horizontal_leg = vertical_leg * np.tan(angle_rad)\n",
    "\n",
    "# Определяем точки треугольника\n",
    "triangle_points = np.array([start_point, \n",
    "                            start_point - np.array([0, vertical_leg]), \n",
    "                            start_point - np.array([horizontal_leg, vertical_leg])])\n",
    "\n",
    "# Рисуем треугольник\n",
    "plt.figure()\n",
    "plt.plot(*zip(*triangle_points, triangle_points[0]), 'r-')\n",
    "\n",
    "# Рисуем начальную точку\n",
    "plt.plot(start_point[0], start_point[1], 'go', label=f'D')\n",
    "\n",
    "# Рисуем точку перемещения\n",
    "plt.plot(triangle_points[2][0], triangle_points[2][1], 'ro', label=f'D`')\n",
    "\n",
    "\n",
    "\n",
    "\n",
    "\n",
    "\n",
    "### chart\n",
    "# Вычисляем минимальные и максимальные значения по осям x и y\n",
    "x_min = np.min(triangle_points[:, 0])\n",
    "x_max = np.max(triangle_points[:, 0])\n",
    "y_min = np.min(triangle_points[:, 1])\n",
    "y_max = np.max(triangle_points[:, 1])\n",
    "\n",
    "# Добавляем отступ 10% от диапазона значений\n",
    "x_padding = (x_max - x_min) * 0.1\n",
    "y_padding = (y_max - y_min) * 0.3\n",
    "\n",
    "# Добавляем настройки графика\n",
    "# Устанавливаем пределы осей с учетом отступов\n",
    "plt.xlim(x_min - x_padding, x_max + x_padding + 200)\n",
    "plt.ylim(y_min - y_padding, y_max + y_padding)\n",
    "\n",
    "plt.gca().set_aspect('equal', adjustable='box')\n",
    "plt.xlabel('x')\n",
    "plt.ylabel('y')\n",
    "plt.legend()\n",
    "plt.grid(True)\n",
    "#plt.margins(0.1, 0.1)  # 10% отступ от данных по каждой оси\n",
    "plt.show()\n",
    "\n",
    "print(f'triangle_points: {triangle_points}')\n"
   ]
  },
  {
   "cell_type": "code",
   "execution_count": null,
   "id": "84ca4ab6-c93e-46f9-baa5-432e12532446",
   "metadata": {},
   "outputs": [],
   "source": []
  },
  {
   "cell_type": "code",
   "execution_count": null,
   "id": "31265473-6ffe-49da-97da-e45d7578a210",
   "metadata": {},
   "outputs": [],
   "source": []
  }
 ],
 "metadata": {
  "kernelspec": {
   "display_name": "Python 3 (ipykernel)",
   "language": "python",
   "name": "python3"
  },
  "language_info": {
   "codemirror_mode": {
    "name": "ipython",
    "version": 3
   },
   "file_extension": ".py",
   "mimetype": "text/x-python",
   "name": "python",
   "nbconvert_exporter": "python",
   "pygments_lexer": "ipython3",
   "version": "3.9.12"
  }
 },
 "nbformat": 4,
 "nbformat_minor": 5
}
