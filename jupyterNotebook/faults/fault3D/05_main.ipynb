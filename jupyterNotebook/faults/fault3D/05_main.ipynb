{
 "cells": [
  {
   "cell_type": "code",
   "execution_count": 1,
   "id": "ab34854e-b72b-42fc-b99d-0278d3369781",
   "metadata": {},
   "outputs": [
    {
     "ename": "ValueError",
     "evalue": "Invalid number of arguments.",
     "output_type": "error",
     "traceback": [
      "\u001b[0;31m---------------------------------------------------------------------------\u001b[0m",
      "\u001b[0;31mValueError\u001b[0m                                Traceback (most recent call last)",
      "Input \u001b[0;32mIn [1]\u001b[0m, in \u001b[0;36m<cell line: 22>\u001b[0;34m()\u001b[0m\n\u001b[1;32m      8\u001b[0m points \u001b[38;5;241m=\u001b[39m [\n\u001b[1;32m      9\u001b[0m     point3d(\u001b[38;5;241m0\u001b[39m, \u001b[38;5;241m0\u001b[39m, \u001b[38;5;241m3\u001b[39m),\n\u001b[1;32m     10\u001b[0m     point3d(\u001b[38;5;241m1\u001b[39m, \u001b[38;5;241m0\u001b[39m, \u001b[38;5;241m3\u001b[39m),\n\u001b[0;32m   (...)\u001b[0m\n\u001b[1;32m     18\u001b[0m     point3d(\u001b[38;5;241m9\u001b[39m, \u001b[38;5;241m0\u001b[39m, \u001b[38;5;241m0\u001b[39m),\n\u001b[1;32m     19\u001b[0m ]\n\u001b[1;32m     21\u001b[0m \u001b[38;5;66;03m# Create the plane and set its properties\u001b[39;00m\n\u001b[0;32m---> 22\u001b[0m p \u001b[38;5;241m=\u001b[39m \u001b[43mplane\u001b[49m\u001b[43m(\u001b[49m\u001b[38;5;241;43m1\u001b[39;49m\u001b[43m,\u001b[49m\u001b[43m \u001b[49m\u001b[38;5;241;43m1\u001b[39;49m\u001b[43m,\u001b[49m\u001b[43m \u001b[49m\u001b[38;5;241;43m1\u001b[39;49m\u001b[43m,\u001b[49m\u001b[43m \u001b[49m\u001b[38;5;241;43m0\u001b[39;49m\u001b[43m,\u001b[49m\u001b[43m \u001b[49m\u001b[38;5;241;43m0\u001b[39;49m\u001b[43m,\u001b[49m\u001b[43m \u001b[49m\u001b[38;5;241;43m0\u001b[39;49m\u001b[43m)\u001b[49m\n\u001b[1;32m     23\u001b[0m p\u001b[38;5;241m.\u001b[39mset_props(\u001b[38;5;241m2\u001b[39m, \u001b[38;5;241m3\u001b[39m, \u001b[38;5;241m-\u001b[39m\u001b[38;5;241m1\u001b[39m, \u001b[38;5;241m0\u001b[39m)\n\u001b[1;32m     25\u001b[0m \u001b[38;5;66;03m# Create a 3D plot\u001b[39;00m\n",
      "File \u001b[0;32m/home/faults/fault3D/lib/plane.py:8\u001b[0m, in \u001b[0;36mplane.__init__\u001b[0;34m(self, *args)\u001b[0m\n\u001b[1;32m      6\u001b[0m     \u001b[38;5;28mself\u001b[39m\u001b[38;5;241m.\u001b[39mcalculate_coefficients_from_line(\u001b[38;5;241m*\u001b[39margs)\n\u001b[1;32m      7\u001b[0m \u001b[38;5;28;01melse\u001b[39;00m:\n\u001b[0;32m----> 8\u001b[0m     \u001b[38;5;28;01mraise\u001b[39;00m \u001b[38;5;167;01mValueError\u001b[39;00m(\u001b[38;5;124m\"\u001b[39m\u001b[38;5;124mInvalid number of arguments.\u001b[39m\u001b[38;5;124m\"\u001b[39m)\n",
      "\u001b[0;31mValueError\u001b[0m: Invalid number of arguments."
     ]
    }
   ],
   "source": [
    "import numpy as np\n",
    "import matplotlib.pyplot as plt\n",
    "from mpl_toolkits.mplot3d import Axes3D\n",
    "from lib.plane import plane\n",
    "from lib.point3d import point3d\n",
    "\n",
    "# Create 3D points\n",
    "points = [\n",
    "    point3d(0, 0, 3),\n",
    "    point3d(1, 0, 3),\n",
    "    point3d(2, 0, 3),\n",
    "    point3d(3, 0, 3),\n",
    "    point3d(4, 0, 2),\n",
    "    point3d(5, 0, 1),\n",
    "    point3d(6, 0, 0),\n",
    "    point3d(7, 0, 0),\n",
    "    point3d(8, 0, 0),\n",
    "    point3d(9, 0, 0),\n",
    "]\n",
    "\n",
    "# Create the plane and set its properties\n",
    "p = plane(1, 1, 1, 0, 0, 0)\n",
    "p.set_props(2, 3, -1, 0)\n",
    "\n",
    "# Create a 3D plot\n",
    "fig = plt.figure()\n",
    "ax = fig.add_subplot(111, projection='3d')\n",
    "\n",
    "# Scatter the 3D points\n",
    "ax.scatter3D([point.x for point in points],\n",
    "             [point.y for point in points],\n",
    "             [point.z for point in points],\n",
    "             color='red')\n",
    "\n",
    "# Define the plane's surface\n",
    "x = np.linspace(-5, 5, 10)\n",
    "y = np.linspace(-5, 5, 10)\n",
    "X, Y = np.meshgrid(x, y)\n",
    "Z = (p.D - p.A * X - p.B * Y) / p.C\n",
    "\n",
    "# Plot the plane's surface\n",
    "ax.plot_surface(X, Y, Z, alpha=0.5, rstride=100, cstride=100)\n",
    "\n",
    "# Set labels for axes\n",
    "ax.set_xlabel('East')\n",
    "ax.set_ylabel('North')\n",
    "ax.set_zlabel('TVD')\n",
    "\n",
    "# Rotate the plot by 20 degrees vertically and 30 degrees horizontally\n",
    "ax.view_init(20, 45)\n",
    "\n",
    "# Show the plot\n",
    "plt.show()\n"
   ]
  },
  {
   "cell_type": "code",
   "execution_count": null,
   "id": "39c79dfe-01dd-4343-b3fe-b60ecebad836",
   "metadata": {},
   "outputs": [],
   "source": []
  }
 ],
 "metadata": {
  "kernelspec": {
   "display_name": "Python 3 (ipykernel)",
   "language": "python",
   "name": "python3"
  },
  "language_info": {
   "codemirror_mode": {
    "name": "ipython",
    "version": 3
   },
   "file_extension": ".py",
   "mimetype": "text/x-python",
   "name": "python",
   "nbconvert_exporter": "python",
   "pygments_lexer": "ipython3",
   "version": "3.9.12"
  }
 },
 "nbformat": 4,
 "nbformat_minor": 5
}
