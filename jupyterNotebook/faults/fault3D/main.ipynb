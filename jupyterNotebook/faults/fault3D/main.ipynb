{
 "cells": [
  {
   "cell_type": "code",
   "execution_count": 1,
   "id": "ab34854e-b72b-42fc-b99d-0278d3369781",
   "metadata": {},
   "outputs": [
    {
     "data": {
      "image/png": "[encoded data removed]",
      "text/plain": [
       "<Figure size 864x432 with 2 Axes>"
      ]
     },
     "metadata": {
      "needs_background": "light"
     },
     "output_type": "display_data"
    }
   ],
   "source": [
    "import numpy as np\n",
    "import matplotlib.pyplot as plt\n",
    "from lib.plane import plane\n",
    "#from lib.surface import surfaxe\n",
    "\n",
    "class Surface:\n",
    "    def set_grid_info(self, min_east, min_north, max_east, max_north, num_rows, num_cols, surface_grid):\n",
    "        self.MinEast = min_east\n",
    "        self.MinNorth = min_north\n",
    "        self.MaxEast = max_east\n",
    "        self.MaxNorth = max_north\n",
    "        self.NumRows = num_rows\n",
    "        self.NumCols = num_cols\n",
    "        self.SurfaceGrid = surface_grid\n",
    "\n",
    "class FaultedSurface(Surface):  # FaultedSurface is a subtype of Surface\n",
    "    pass\n",
    "\n",
    "def split_surface(surface, faulted_surface, shift, fault_plane):\n",
    "    # TODO: Insert the logic of the function.\n",
    "    # Return a pair of Surface instances for simplicity in this mockup.\n",
    "    return surface, faulted_surface\n",
    "\n",
    "# Testing the function:\n",
    "surface = Surface()\n",
    "surface_grid = np.arange(100).tolist()  # Create a grid of values 0-99.\n",
    "surface.set_grid_info(0, 0, 1000, 1000, 10, 10, surface_grid)\n",
    "\n",
    "faulted_surface = FaultedSurface()\n",
    "faulted_surface.set_grid_info(0, 0, 1000, 1000, 10, 10, surface_grid)\n",
    "\n",
    "fault_plane = plane(np.sin(np.radians(-90)), 0, np.cos(np.radians(-90)), 100, 100, 100)\n",
    "\n",
    "s1, s2 = split_surface(surface, faulted_surface, 100, fault_plane)\n",
    "\n",
    "# Visualization:\n",
    "plt.figure(figsize=(12, 6))\n",
    "\n",
    "plt.subplot(1, 2, 1)\n",
    "plt.title('Surface 1')\n",
    "plt.imshow(np.array(s1.SurfaceGrid).reshape((s1.NumRows, s1.NumCols)), cmap='viridis')\n",
    "\n",
    "plt.subplot(1, 2, 2)\n",
    "plt.title('Surface 2')\n",
    "plt.imshow(np.array(s2.SurfaceGrid).reshape((s2.NumRows, s2.NumCols)), cmap='viridis')\n",
    "\n",
    "plt.show()\n"
   ]
  },
  {
   "cell_type": "code",
   "execution_count": null,
   "id": "39c79dfe-01dd-4343-b3fe-b60ecebad836",
   "metadata": {},
   "outputs": [],
   "source": []
  }
 ],
 "metadata": {
  "kernelspec": {
   "display_name": "Python 3 (ipykernel)",
   "language": "python",
   "name": "python3"
  },
  "language_info": {
   "codemirror_mode": {
    "name": "ipython",
    "version": 3
   },
   "file_extension": ".py",
   "mimetype": "text/x-python",
   "name": "python",
   "nbconvert_exporter": "python",
   "pygments_lexer": "ipython3",
   "version": "3.9.12"
  }
 },
 "nbformat": 4,
 "nbformat_minor": 5
}
