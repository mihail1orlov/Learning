{
 "cells": [
  {
   "cell_type": "code",
   "execution_count": 3,
   "id": "ab34854e-b72b-42fc-b99d-0278d3369781",
   "metadata": {},
   "outputs": [],
   "source": [
    "import numpy as np\n",
    "import math\n",
    "from lib.plane import plane\n",
    "from lib.surface import surface\n",
    "\n",
    "class FaultedSurface(surface):  # FaultedSurface is a subtype of Surface\n",
    "    pass\n",
    "\n",
    "def split_faulted_surface_by_fault(surface, faulted_surface, shift, fault_plane):\n",
    "    # TODO: Insert the logic of the function.\n",
    "    # Return a pair of Surface instances for simplicity in this mockup.\n",
    "    return surface, faulted_surface\n",
    "\n",
    "# Arrange\n",
    "minEast = 0\n",
    "minNorth = 0\n",
    "maxEast = 1000\n",
    "maxNorth = 1000\n",
    "numRows = 10\n",
    "numCols = 10\n",
    "surfaceGrid = [i for i in range(numRows * numCols)]\n",
    "throwValue = 100.0\n",
    "dip = -90.0  # dip in degrees\n",
    "dipRad = math.pi * dip / 180.0  # converting dip to radians for calculations\n",
    "a = math.sin(dipRad)\n",
    "b = 0\n",
    "c = math.cos(dipRad)\n",
    "faultPlane = plane(a, b, c, throwValue, throwValue, throwValue)\n",
    "\n",
    "shift = 100.0\n",
    "\n",
    "surface = surface(minEast, minNorth, maxEast, maxNorth, numRows, numCols, surfaceGrid)\n",
    "faultedSurface = FaultedSurface(minEast, minNorth, maxEast, maxNorth, numRows, numCols, surfaceGrid)\n",
    "\n",
    "expectedUnchangedGrid = [1E+30]*10 + [i for i in range(10, 100)]\n",
    "expectedShiftedGrid = [i+100 for i in range(10)] + [1E+30]*90\n",
    "\n",
    "# Act\n",
    "actual = split_faulted_surface_by_fault(surface, faultedSurface, shift, faultPlane)\n",
    "\n",
    "# Assert\n",
    "assert actual is not None\n",
    "assert len(actual) == 2\n",
    "\n",
    "# Using numpy's array_equal function to check if two lists are equal\n",
    "#assert np.array_equal(actual[0].surfaceGrid, expectedUnchangedGrid)\n",
    "#assert np.array_equal(actual[1].surfaceGrid, expectedShiftedGrid)\n"
   ]
  },
  {
   "cell_type": "code",
   "execution_count": null,
   "id": "39c79dfe-01dd-4343-b3fe-b60ecebad836",
   "metadata": {},
   "outputs": [],
   "source": []
  }
 ],
 "metadata": {
  "kernelspec": {
   "display_name": "Python 3 (ipykernel)",
   "language": "python",
   "name": "python3"
  },
  "language_info": {
   "codemirror_mode": {
    "name": "ipython",
    "version": 3
   },
   "file_extension": ".py",
   "mimetype": "text/x-python",
   "name": "python",
   "nbconvert_exporter": "python",
   "pygments_lexer": "ipython3",
   "version": "3.9.12"
  }
 },
 "nbformat": 4,
 "nbformat_minor": 5
}
