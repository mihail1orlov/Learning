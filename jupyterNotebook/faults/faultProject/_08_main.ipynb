{
 "cells": [
  {
   "cell_type": "code",
   "execution_count": 1,
   "id": "ccc5c3a7-7242-46af-bb57-284b3dc74072",
   "metadata": {},
   "outputs": [
    {
     "name": "stdout",
     "output_type": "stream",
     "text": [
      "Line black details: A = -30.0, B = 1.25, C = -581.25\n",
      "Angle of inclination: 87.61405596961119 degrees\n",
      "\u001b[30mLine: black, point:yy - isPositive: True\u001b[0m\n",
      "\u001b[30mLine: black, point:cc - isPositive: False\u001b[0m\n",
      "\u001b[30mLine: black, point:rr - isPositive: False\u001b[0m\n",
      "\u001b[30mLine: black, point:mm - isPositive: True\u001b[0m\n",
      "\u001b[30mLine: black, point:gg - isPositive: True\u001b[0m\n",
      "\u001b[30mLine: black, point:b - isPositive: True\u001b[0m\n",
      "Line blue details: A = 0.0, B = -1, C = 15.0\n",
      "Angle of inclination: 0.0 degrees\n",
      "\u001b[94mLine: blue, point:yy - isPositive: False\u001b[0m\n",
      "\u001b[94mLine: blue, point:cc - isPositive: False\u001b[0m\n",
      "\u001b[94mLine: blue, point:rr - isPositive: False\u001b[0m\n",
      "\u001b[94mLine: blue, point:mm - isPositive: False\u001b[0m\n",
      "\u001b[94mLine: blue, point:gg - isPositive: False\u001b[0m\n",
      "\u001b[94mLine: blue, point:b - isPositive: True\u001b[0m\n",
      "Line red details: A = -20, B = 5, C = -450\n",
      "Angle of inclination: 75.96375653207353 degrees\n",
      "\u001b[91mLine: red, point:yy - isPositive: True\u001b[0m\n",
      "\u001b[91mLine: red, point:cc - isPositive: True\u001b[0m\n",
      "\u001b[91mLine: red, point:rr - isPositive: True\u001b[0m\n",
      "\u001b[91mLine: red, point:mm - isPositive: True\u001b[0m\n",
      "\u001b[91mLine: red, point:gg - isPositive: True\u001b[0m\n",
      "\u001b[91mLine: red, point:b - isPositive: True\u001b[0m\n",
      "Line green details: A = 5, B = -20, C = -75\n",
      "Angle of inclination: 14.036243467926479 degrees\n",
      "\u001b[92mLine: green, point:yy - isPositive: True\u001b[0m\n",
      "\u001b[92mLine: green, point:cc - isPositive: True\u001b[0m\n",
      "\u001b[92mLine: green, point:rr - isPositive: False\u001b[0m\n",
      "\u001b[92mLine: green, point:mm - isPositive: False\u001b[0m\n",
      "\u001b[92mLine: green, point:gg - isPositive: False\u001b[0m\n",
      "\u001b[92mLine: green, point:b - isPositive: True\u001b[0m\n",
      "Line yellow details: A = -20, B = 5, C = -75\n",
      "Angle of inclination: 75.96375653207353 degrees\n",
      "\u001b[93mLine: yellow, point:yy - isPositive: True\u001b[0m\n",
      "\u001b[93mLine: yellow, point:cc - isPositive: False\u001b[0m\n",
      "\u001b[93mLine: yellow, point:rr - isPositive: False\u001b[0m\n",
      "\u001b[93mLine: yellow, point:mm - isPositive: True\u001b[0m\n",
      "\u001b[93mLine: yellow, point:gg - isPositive: False\u001b[0m\n",
      "\u001b[93mLine: yellow, point:b - isPositive: False\u001b[0m\n",
      "Line m details: A = -5, B = 20, C = 450\n",
      "Angle of inclination: 14.036243467926479 degrees\n",
      "\u001b[95mLine: m, point:yy - isPositive: False\u001b[0m\n",
      "\u001b[95mLine: m, point:cc - isPositive: False\u001b[0m\n",
      "\u001b[95mLine: m, point:rr - isPositive: True\u001b[0m\n",
      "\u001b[95mLine: m, point:mm - isPositive: True\u001b[0m\n",
      "\u001b[95mLine: m, point:gg - isPositive: False\u001b[0m\n",
      "\u001b[95mLine: m, point:b - isPositive: False\u001b[0m\n"
     ]
    },
    {
     "data": {
      "image/png": "[encoded data removed]",
      "text/plain": [
       "<Figure size 432x288 with 1 Axes>"
      ]
     },
     "metadata": {
      "needs_background": "light"
     },
     "output_type": "display_data"
    }
   ],
   "source": [
    "import matplotlib.pyplot as plt\n",
    "import numpy as np\n",
    "from geometry import Line, Point2D\n",
    "from visualization import visualize\n",
    "\n",
    "def define_points():\n",
    "    points = [\n",
    "        #Point2D(9999.000000001313, 10199.8134765625),\n",
    "        #Point2D(10002.000000001324, 7486.134356717739),\n",
    "        Point2D(5, 5, color='y', name='yy'),\n",
    "        Point2D(25, 10, color='c', name='cc'),\n",
    "        Point2D(30, 30, color='r', name='rr'),\n",
    "        Point2D(10, 25, color='m', name='mm'),\n",
    "        Point2D(20, 15, color='g', name='gg'),\n",
    "        #Point2D(7000, 9500, color='y', name='y_false'),\n",
    "        #Point2D(10000, 8500, color='m', name='m_true'),\n",
    "        #Point2D(10002.000000001324, 10199.5546875)\n",
    "    ]\n",
    "    return points    \n",
    "\n",
    "# Initialize the line\n",
    "points = define_points()\n",
    "\n",
    "#line = Line.from_angle_point(85, points[0])\n",
    "line_g = Line.from_two_points(points[1], points[0])\n",
    "line_g.name = 'green'\n",
    "line_g.color = 'g'\n",
    "\n",
    "line_r = Line.from_two_points(points[1], points[2])\n",
    "line_r.name = 'red'\n",
    "line_r.color = 'r'\n",
    "\n",
    "line_m = Line.from_two_points(points[3], points[2])\n",
    "line_m.name = 'm'\n",
    "line_m.color = 'm'\n",
    "\n",
    "line_b = Line.from_angle_point(0, points[4])\n",
    "#line_b = Line.from_two_points(points[0], points[4])\n",
    "line_b.name = 'blue'\n",
    "line_b.color = 'b'\n",
    "\n",
    "#line_y = Line.from_angle_point(33.690067525979785, points[3])\n",
    "line_y = Line.from_two_points(points[0], points[3])\n",
    "line_y.name = 'yellow'\n",
    "line_y.color = 'y'\n",
    "\n",
    "intersection = line_b.intersection(line_r)\n",
    "if intersection != None:\n",
    "    intersection.name = 'b'\n",
    "    intersection.color = 'k'\n",
    "    points.append(intersection)\n",
    "\n",
    "line_k = Line.from_two_points(points[5], points[4])\n",
    "#line_k = Line.from_angle_point(0, points[4])\n",
    "line_k.name = 'black'\n",
    "line_k.color = 'k'\n",
    "\n",
    "visualize(points, [line_k, line_b, line_r, line_g, line_y, line_m], show_legend=False)\n"
   ]
  },
  {
   "cell_type": "code",
   "execution_count": null,
   "id": "51d6a6b0-5598-49da-891d-2836905e2d95",
   "metadata": {},
   "outputs": [],
   "source": []
  }
 ],
 "metadata": {
  "kernelspec": {
   "display_name": "Python 3 (ipykernel)",
   "language": "python",
   "name": "python3"
  },
  "language_info": {
   "codemirror_mode": {
    "name": "ipython",
    "version": 3
   },
   "file_extension": ".py",
   "mimetype": "text/x-python",
   "name": "python",
   "nbconvert_exporter": "python",
   "pygments_lexer": "ipython3",
   "version": "3.9.12"
  }
 },
 "nbformat": 4,
 "nbformat_minor": 5
}
