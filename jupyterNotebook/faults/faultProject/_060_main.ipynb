{
 "cells": [
  {
   "cell_type": "code",
   "execution_count": 2,
   "id": "ccc5c3a7-7242-46af-bb57-284b3dc74072",
   "metadata": {},
   "outputs": [
    {
     "data": {
      "image/png": "[encoded data removed]",
      "text/plain": [
       "<Figure size 432x288 with 1 Axes>"
      ]
     },
     "metadata": {
      "needs_background": "light"
     },
     "output_type": "display_data"
    },
    {
     "name": "stdout",
     "output_type": "stream",
     "text": [
      "\u001b[92m\n",
      "Line green details: A = -0.0, B = 30.0, C = 0.0\n",
      "Angle of inclination: 0.0 degrees\n",
      "\u001b[92mLine: green, point:center - isPositive: True\n",
      "\u001b[92mLine: green, point:0 - isPositive: True\n",
      "\u001b[92mLine: green, point:1 - isPositive: True\n",
      "\u001b[92mLine: green, point:2 - isPositive: True\n",
      "\u001b[92mLine: green, point:3 - isPositive: True\n",
      "\u001b[92mLine: green, point:4 - isPositive: True\n",
      "\u001b[92mLine: green, point:5 - isPositive: True\n",
      "\u001b[92mLine: green, point:6 - isPositive: True\n",
      "\u001b[92mLine: green, point:7 - isPositive: False\n",
      "\u001b[92mLine: green, point:8 - isPositive: False\n",
      "\u001b[92mLine: green, point:9 - isPositive: False\n",
      "\u001b[92mLine: green, point:10 - isPositive: False\n",
      "\u001b[92mLine: green, point:11 - isPositive: False\n",
      "\u001b[0m\n",
      "\u001b[91m\n",
      "Line red details: A = 1.633123935319537e+16, B = -1, C = -0.0\n",
      "Angle of inclination: 90.0 degrees\n",
      "\u001b[91mLine: red, point:center - isPositive: True\n",
      "\u001b[91mLine: red, point:0 - isPositive: True\n",
      "\u001b[91mLine: red, point:1 - isPositive: True\n",
      "\u001b[91mLine: red, point:2 - isPositive: True\n",
      "\u001b[91mLine: red, point:3 - isPositive: True\n",
      "\u001b[91mLine: red, point:4 - isPositive: False\n",
      "\u001b[91mLine: red, point:5 - isPositive: False\n",
      "\u001b[91mLine: red, point:6 - isPositive: False\n",
      "\u001b[91mLine: red, point:7 - isPositive: False\n",
      "\u001b[91mLine: red, point:8 - isPositive: False\n",
      "\u001b[91mLine: red, point:9 - isPositive: False\n",
      "\u001b[91mLine: red, point:10 - isPositive: True\n",
      "\u001b[91mLine: red, point:11 - isPositive: True\n",
      "\u001b[0m\n",
      "\u001b[93m\n",
      "Line yellow details: A = 0.5773502691896257, B = -1, C = -0.0\n",
      "Angle of inclination: 29.999999999999996 degrees\n",
      "\u001b[93mLine: yellow, point:center - isPositive: True\n",
      "\u001b[93mLine: yellow, point:0 - isPositive: True\n",
      "\u001b[93mLine: yellow, point:1 - isPositive: True\n",
      "\u001b[93mLine: yellow, point:2 - isPositive: False\n",
      "\u001b[93mLine: yellow, point:3 - isPositive: False\n",
      "\u001b[93mLine: yellow, point:4 - isPositive: False\n",
      "\u001b[93mLine: yellow, point:5 - isPositive: False\n",
      "\u001b[93mLine: yellow, point:6 - isPositive: False\n",
      "\u001b[93mLine: yellow, point:7 - isPositive: False\n",
      "\u001b[93mLine: yellow, point:8 - isPositive: True\n",
      "\u001b[93mLine: yellow, point:9 - isPositive: True\n",
      "\u001b[93mLine: yellow, point:10 - isPositive: True\n",
      "\u001b[93mLine: yellow, point:11 - isPositive: True\n",
      "\u001b[0m\n",
      "Checking for equal lines:\n"
     ]
    }
   ],
   "source": [
    "import matplotlib.pyplot as plt\n",
    "import numpy as np\n",
    "from geometry import Line, Point2D\n",
    "from visualization import visualize\n",
    "\n",
    "def define_points():\n",
    "    radius = 30  # distance from the center to each point\n",
    "    points = [Point2D(0, 0, color='b', name='center')]  # Center point\n",
    "\n",
    "    for i in range(12):  # 12 points for a clock\n",
    "        angle = 2 * np.pi * i / 12  # angle in radians\n",
    "        x = radius * np.cos(angle)\n",
    "        y = radius * np.sin(angle)\n",
    "\n",
    "        # Assign color based on the point's position\n",
    "        if i < 3:\n",
    "            color = 'y'\n",
    "        elif i < 6:\n",
    "            color = 'c'\n",
    "        elif i < 9:\n",
    "            color = 'r'\n",
    "        else:\n",
    "            color = 'k'\n",
    "        \n",
    "        points.append(Point2D(x, y, color=color, name=str(i)))\n",
    "\n",
    "    return points   \n",
    "\n",
    "# Initialize the line\n",
    "\n",
    "points = define_points()\n",
    "\n",
    "lines = []\n",
    "for point in points[1:]:\n",
    "    line = Line.from_two_points(points[0], point)\n",
    "    line.name = point.name\n",
    "    lines.append(line)\n",
    "\n",
    "\n",
    "#line = Line.from_angle_point(85, points[0])\n",
    "line_g = Line.from_two_points(points[0], points[1])\n",
    "line_g.name = 'green'\n",
    "line_g.color = 'g'\n",
    "\n",
    "line_r = Line.from_angle_point(90, points[0])\n",
    "line_r.name = 'red'\n",
    "line_r.color = 'r'\n",
    "\n",
    "line_y = Line.from_angle_point(30, points[0])\n",
    "line_y.name = 'yellow'\n",
    "line_y.color = 'y'\n",
    "\n",
    "visualize(points, [line_g, line_r, line_y])\n"
   ]
  },
  {
   "cell_type": "code",
   "execution_count": null,
   "id": "51d6a6b0-5598-49da-891d-2836905e2d95",
   "metadata": {},
   "outputs": [],
   "source": []
  }
 ],
 "metadata": {
  "kernelspec": {
   "display_name": "Python 3 (ipykernel)",
   "language": "python",
   "name": "python3"
  },
  "language_info": {
   "codemirror_mode": {
    "name": "ipython",
    "version": 3
   },
   "file_extension": ".py",
   "mimetype": "text/x-python",
   "name": "python",
   "nbconvert_exporter": "python",
   "pygments_lexer": "ipython3",
   "version": "3.9.12"
  }
 },
 "nbformat": 4,
 "nbformat_minor": 5
}
