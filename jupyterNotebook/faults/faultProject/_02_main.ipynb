{
 "cells": [
  {
   "cell_type": "code",
   "execution_count": 4,
   "id": "ccc5c3a7-7242-46af-bb57-284b3dc74072",
   "metadata": {},
   "outputs": [
    {
     "data": {
      "image/png": "[encoded data removed]",
      "text/plain": [
       "<Figure size 432x288 with 1 Axes>"
      ]
     },
     "metadata": {
      "needs_background": "light"
     },
     "output_type": "display_data"
    },
    {
     "name": "stdout",
     "output_type": "stream",
     "text": [
      "\u001b[92m\n",
      "Line g details: A = -1000, B = 1000, C = 0\n",
      "Angle of inclination: 45.0 degrees\n",
      "\u001b[92mLine: g, point:red - isPositive: False\n",
      "\u001b[92mLine: g, point:b - isPositive: False\n",
      "\u001b[92mLine: g, point:c - isPositive: True\n",
      "\u001b[92mLine: g, point:m - isPositive: True\n",
      "\u001b[92mLine: g, point:k - isPositive: True\n",
      "\u001b[0m\n",
      "\u001b[91m\n",
      "Line red details: A = 0, B = 1000, C = 8000000\n",
      "Angle of inclination: 0.0 degrees\n",
      "\u001b[91mLine: red, point:red - isPositive: True\n",
      "\u001b[91mLine: red, point:b - isPositive: True\n",
      "\u001b[91mLine: red, point:c - isPositive: True\n",
      "\u001b[91mLine: red, point:m - isPositive: True\n",
      "\u001b[91mLine: red, point:k - isPositive: True\n",
      "\u001b[0m\n",
      "\u001b[93m\n",
      "Line y details: A = 500, B = -2000, C = -13000000\n",
      "Angle of inclination: 14.036243467926479 degrees\n",
      "\u001b[93mLine: y, point:red - isPositive: True\n",
      "\u001b[93mLine: y, point:b - isPositive: True\n",
      "\u001b[93mLine: y, point:c - isPositive: True\n",
      "\u001b[93mLine: y, point:m - isPositive: True\n",
      "\u001b[93mLine: y, point:k - isPositive: False\n",
      "\u001b[0m\n",
      "\u001b[94m\n",
      "Line blue details: A = 0.9999999999999999, B = -1, C = 999.9999999999982\n",
      "Angle of inclination: 45.0 degrees\n",
      "\u001b[94mLine: blue, point:red - isPositive: True\n",
      "\u001b[94mLine: blue, point:b - isPositive: True\n",
      "\u001b[94mLine: blue, point:c - isPositive: False\n",
      "\u001b[94mLine: blue, point:m - isPositive: False\n",
      "\u001b[94mLine: blue, point:k - isPositive: False\n",
      "\u001b[0m\n",
      "Checking for equal lines:\n"
     ]
    }
   ],
   "source": [
    "import matplotlib.pyplot as plt\n",
    "import numpy as np\n",
    "from geometry import Line, Point2D\n",
    "from visualization import visualize\n",
    "\n",
    "def define_points():\n",
    "    points = [\n",
    "        #Point2D(9999.000000001313, 10199.8134765625),\n",
    "        #Point2D(10002.000000001324, 7486.134356717739),\n",
    "        Point2D(9000, 8000, color='r', name='red'),\n",
    "        Point2D(10000, 9000, color='b', name='b'),\n",
    "        Point2D(8000, 8500, color='c', name='c'),\n",
    "        Point2D(8000, 8000, color='m', name='m'),\n",
    "        Point2D(9000, 9000, color='k', name='k'),\n",
    "        #Point2D(10002.000000001324, 10199.5546875)\n",
    "    ]\n",
    "    return points    \n",
    "\n",
    "# Initialize the line\n",
    "\n",
    "# A vertical line at x = 10000\n",
    "#line = Line(1, 0, -10000)\n",
    "#line = Line(1, 0, -10001.00000000132)\n",
    "\n",
    "# a horizontal line\n",
    "#line = Line(-0.5587890625, -3.400000000010914, -34187.07226573666)\n",
    "#surfaceLine\n",
    "#line = Line(-0.2587890625, -3.000000000010914, -33187.07226573666)\n",
    "\n",
    "\n",
    "#line = Line(-57.28996163075955, 1.0, 580500.3305876505)\n",
    "#line = Line.from_angle_point(45, 9000, 10000)\n",
    "#line = Line.from_angle_point(45, 10000, 9000)\n",
    "\n",
    "#line = Line.from_two_points(10000, 10000, 9000, 10000)\n",
    "points = define_points()\n",
    "\n",
    "line_g = Line.from_two_points(points[3], points[4]) # A = 1000, B = -1000, C = 1000000, 45.0 degrees\n",
    "line_g.name = 'g'\n",
    "line_g.color = 'g'\n",
    "\n",
    "line_r = Line.from_two_points(points[3], points[0])\n",
    "line_r.name = 'red'\n",
    "line_r.color = 'r'\n",
    "\n",
    "line_y = Line.from_two_points(points[1], points[2])\n",
    "line_y.name = 'y'\n",
    "line_y.color = 'y'\n",
    "\n",
    "line_b = Line.from_angle_point(45, points[0])\n",
    "#line_b = Line.from_two_points(points[3], points[1])\n",
    "line_b.name = 'blue'\n",
    "line_b.color = 'b'\n",
    "\n",
    "intersection = line_b.intersection(line_y)\n",
    "if intersection != None:\n",
    "    intersection.name = 'i'\n",
    "    intersection.color = 'k'\n",
    "    #points.append(intersection)\n",
    "\n",
    "visualize(points, [line_g, line_r, line_y, line_b])"
   ]
  },
  {
   "cell_type": "code",
   "execution_count": null,
   "id": "0b1a3ef0-ef7b-43f6-b1d6-9e9a487734cd",
   "metadata": {},
   "outputs": [],
   "source": []
  }
 ],
 "metadata": {
  "kernelspec": {
   "display_name": "Python 3 (ipykernel)",
   "language": "python",
   "name": "python3"
  },
  "language_info": {
   "codemirror_mode": {
    "name": "ipython",
    "version": 3
   },
   "file_extension": ".py",
   "mimetype": "text/x-python",
   "name": "python",
   "nbconvert_exporter": "python",
   "pygments_lexer": "ipython3",
   "version": "3.9.12"
  }
 },
 "nbformat": 4,
 "nbformat_minor": 5
}
