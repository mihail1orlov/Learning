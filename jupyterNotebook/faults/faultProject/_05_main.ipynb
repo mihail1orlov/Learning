{
 "cells": [
  {
   "cell_type": "code",
   "execution_count": 3,
   "id": "ccc5c3a7-7242-46af-bb57-284b3dc74072",
   "metadata": {},
   "outputs": [
    {
     "data": {
      "image/png": "[encoded data removed]",
      "text/plain": [
       "<Figure size 432x288 with 1 Axes>"
      ]
     },
     "metadata": {
      "needs_background": "light"
     },
     "output_type": "display_data"
    },
    {
     "name": "stdout",
     "output_type": "stream",
     "text": [
      "\u001b[92m\n",
      "Line green details: A = 5, B = -20, C = 0\n",
      "Angle of inclination: 14.036243467926479 degrees\n",
      "\u001b[92mLine: green, point:yy - isPositive: True\n",
      "\u001b[92mLine: green, point:cc - isPositive: True\n",
      "\u001b[92mLine: green, point:rr - isPositive: False\n",
      "\u001b[92mLine: green, point:kk - isPositive: False\n",
      "\u001b[0m\n",
      "\u001b[93m\n",
      "Line yellow details: A = 1.633123935319537e+16, B = -1, C = 8.165619676597683e+16\n",
      "Angle of inclination: 90.0 degrees\n",
      "\u001b[93mLine: yellow, point:yy - isPositive: False\n",
      "\u001b[93mLine: yellow, point:cc - isPositive: True\n",
      "\u001b[93mLine: yellow, point:rr - isPositive: True\n",
      "\u001b[93mLine: yellow, point:kk - isPositive: True\n",
      "\u001b[0m\n",
      "\u001b[30m\n",
      "Line black details: A = 0.25, B = -1, C = -18.75\n",
      "Angle of inclination: 14.036243467926479 degrees\n",
      "\u001b[30mLine: black, point:yy - isPositive: True\n",
      "\u001b[30mLine: black, point:cc - isPositive: True\n",
      "\u001b[30mLine: black, point:rr - isPositive: True\n",
      "\u001b[30mLine: black, point:kk - isPositive: True\n",
      "\u001b[0m\n",
      "\u001b[91m\n",
      "Line red details: A = 20, B = -5, C = 0\n",
      "Angle of inclination: 75.96375653207353 degrees\n",
      "\u001b[91mLine: red, point:yy - isPositive: True\n",
      "\u001b[91mLine: red, point:cc - isPositive: True\n",
      "\u001b[91mLine: red, point:rr - isPositive: True\n",
      "\u001b[91mLine: red, point:kk - isPositive: True\n",
      "\u001b[0m\n",
      "Checking for equal lines:\n"
     ]
    }
   ],
   "source": [
    "import matplotlib.pyplot as plt\n",
    "import numpy as np\n",
    "from geometry import Line, Point2D\n",
    "from visualization import visualize\n",
    "\n",
    "def define_points():\n",
    "    points = [\n",
    "        #Point2D(9999.000000001313, 10199.8134765625),\n",
    "        #Point2D(10002.000000001324, 7486.134356717739),\n",
    "        Point2D(0, 0, color='y', name='yy'),\n",
    "        Point2D(20, 5, color='c', name='cc'),\n",
    "        Point2D(25, 25, color='r', name='rr'),\n",
    "        Point2D(5, 20, color='k', name='kk'),\n",
    "        #Point2D(-5, -20, color='g', name='gg'),\n",
    "        #Point2D(7000, 9500, color='y', name='y_false'),\n",
    "        #Point2D(10000, 8500, color='m', name='m_true'),\n",
    "        #Point2D(10002.000000001324, 10199.5546875)\n",
    "    ]\n",
    "    return points    \n",
    "\n",
    "# Initialize the line\n",
    "points = define_points()\n",
    "\n",
    "#line = Line.from_angle_point(85, points[0])\n",
    "line_g = Line.from_two_points(points[1], points[0])\n",
    "line_g.name = 'green'\n",
    "line_g.color = 'g'\n",
    "\n",
    "line_r = Line.from_two_points(points[3], points[0])\n",
    "line_r.name = 'red'\n",
    "line_r.color = 'r'\n",
    "\n",
    "line_y = Line.from_angle_point(90, points[3])\n",
    "line_y.name = 'yellow'\n",
    "line_y.color = 'y'\n",
    "\n",
    "line_b = Line.from_angle_point(14.036243467926479, points[3])\n",
    "line_b.name = 'black'\n",
    "line_b.color = 'k'\n",
    "\n",
    "visualize(points, [line_g, line_y, line_b, line_r])\n"
   ]
  },
  {
   "cell_type": "code",
   "execution_count": null,
   "id": "51d6a6b0-5598-49da-891d-2836905e2d95",
   "metadata": {},
   "outputs": [],
   "source": []
  }
 ],
 "metadata": {
  "kernelspec": {
   "display_name": "Python 3 (ipykernel)",
   "language": "python",
   "name": "python3"
  },
  "language_info": {
   "codemirror_mode": {
    "name": "ipython",
    "version": 3
   },
   "file_extension": ".py",
   "mimetype": "text/x-python",
   "name": "python",
   "nbconvert_exporter": "python",
   "pygments_lexer": "ipython3",
   "version": "3.9.12"
  }
 },
 "nbformat": 4,
 "nbformat_minor": 5
}
