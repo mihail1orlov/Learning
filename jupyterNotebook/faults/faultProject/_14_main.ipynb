{
 "cells": [
  {
   "cell_type": "code",
   "execution_count": 41,
   "id": "ccc5c3a7-7242-46af-bb57-284b3dc74072",
   "metadata": {},
   "outputs": [
    {
     "data": {
      "image/png": "[encoded data removed]",
      "text/plain": [
       "<Figure size 432x288 with 1 Axes>"
      ]
     },
     "metadata": {
      "needs_background": "light"
     },
     "output_type": "display_data"
    },
    {
     "name": "stdout",
     "output_type": "stream",
     "text": [
      "\u001b[93m\n",
      "Line yellow details: A = -1, B = -1, C = -6.0\n",
      "Angle of inclination: -45.0 degrees\n",
      "\u001b[93mLine: yellow, point:0 - isPositive: True\n",
      "\u001b[93mLine: yellow, point:1 - isPositive: True\n",
      "\u001b[93mLine: yellow, point:2 - isPositive: True\n",
      "\u001b[93mLine: yellow, point:3 - isPositive: True\n",
      "\u001b[93mLine: yellow, point:4 - isPositive: True\n",
      "\u001b[93mLine: yellow, point:5 - isPositive: True\n",
      "\u001b[93mLine: yellow, point:6 - isPositive: True\n",
      "\u001b[93mLine: yellow, point:7 - isPositive: False\n",
      "\u001b[93mLine: yellow, point:8 - isPositive: False\n",
      "\u001b[93mLine: yellow, point:9 - isPositive: False\n",
      "\u001b[93mLine: yellow, point:start - isPositive: True\n",
      "\u001b[0m\n",
      "Checking for equal lines:\n"
     ]
    }
   ],
   "source": [
    "import matplotlib.pyplot as plt\n",
    "import numpy as np\n",
    "from geometry import Line, Point2D\n",
    "from visualization import visualize\n",
    "'''\n",
    "Name: Flat_4. Md: 10519.945708618448, Tvd: 8385.646484375\n",
    "valid # of grids = 54372\n",
    "valid # of grids = 51420\n",
    "Name: Flat_5. Md: 10577.271403217654, Tvd: 8484.9375\n",
    "'''\n",
    "def define_points():\n",
    "    points = [# throw = 100 da = 60\n",
    "        Point2D(0, 3, color='y', name='0'),\n",
    "        Point2D(1, 3, color='y', name='1'),\n",
    "        Point2D(2, 3, color='y', name='2'),\n",
    "        Point2D(3, 3, color='y', name='3'),\n",
    "        Point2D(4, 2, color='r', name='4'),\n",
    "        Point2D(5, 1, color='r', name='5'),\n",
    "        Point2D(6, 0, color='g', name='6'),\n",
    "        Point2D(7, 0, color='g', name='7'),\n",
    "        Point2D(8, 0, color='g', name='8'),\n",
    "        Point2D(9, 0, color='g', name='9'),\n",
    "        \n",
    "        Point2D(0, 0, color='g', name='start'),\n",
    "    ]\n",
    "    return points    \n",
    "\n",
    "# Initialize the line\n",
    "points = define_points()\n",
    "\n",
    "line_y = Line(-1, -1, -6.0)\n",
    "#line_y = Line.from_angle_point(-45, points[3])\n",
    "#line_y = Line.from_two_points(points[0], points[1])\n",
    "line_y.name = 'yellow'\n",
    "line_y.color = 'y'\n",
    "'''\n",
    "line_b = Line.from_angle_point(0, points[1])\n",
    "#line_b = Line.from_two_points(points[0], points[4])\n",
    "line_b.name = 'blue'\n",
    "line_b.color = 'b'\n",
    "\n",
    "line_m = Line.from_angle_point(0, points[2])\n",
    "#line_m = Line.from_two_points(points[1], points[0])\n",
    "line_m.name = 'm'\n",
    "line_m.color = 'm'\n",
    "\n",
    "line_g = Line.from_angle_point(0, points[3])\n",
    "#line_g = Line.from_two_points(points[1], points[0])\n",
    "line_g.name = 'green'\n",
    "line_g.color = 'g'\n",
    "\n",
    "line_r = Line.from_angle_point(0, points[4])\n",
    "#line_r = Line.from_two_points(points[1], points[0])\n",
    "line_r.name = 'red'\n",
    "line_r.color = 'r'\n",
    "\n",
    "intersection = line_b.intersection(line_r)\n",
    "if intersection != None:\n",
    "    intersection.name = 'b'\n",
    "    intersection.color = 'k'\n",
    "    points.append(intersection)\n",
    "\n",
    "line_k = Line.from_two_points(points[4], points[0])\n",
    "#line_k = Line.from_angle_point(0, points[4])\n",
    "line_k.name = 'black'\n",
    "line_k.color = 'k'\n",
    "\n",
    "#line_y = Line.from_angle_point(0, points[0])\n",
    "line_y = Line.from_two_points(points[5], points[9])\n",
    "line_y.name = 'yellow'\n",
    "line_y.color = 'y'\n",
    "'''\n",
    "visualize(points, [line_y], show_legend=False)"
   ]
  },
  {
   "cell_type": "code",
   "execution_count": null,
   "id": "0b1a3ef0-ef7b-43f6-b1d6-9e9a487734cd",
   "metadata": {},
   "outputs": [],
   "source": []
  }
 ],
 "metadata": {
  "kernelspec": {
   "display_name": "Python 3 (ipykernel)",
   "language": "python",
   "name": "python3"
  },
  "language_info": {
   "codemirror_mode": {
    "name": "ipython",
    "version": 3
   },
   "file_extension": ".py",
   "mimetype": "text/x-python",
   "name": "python",
   "nbconvert_exporter": "python",
   "pygments_lexer": "ipython3",
   "version": "3.9.12"
  }
 },
 "nbformat": 4,
 "nbformat_minor": 5
}
