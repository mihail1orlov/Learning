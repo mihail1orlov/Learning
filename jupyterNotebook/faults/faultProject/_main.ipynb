{
 "cells": [
  {
   "cell_type": "code",
   "execution_count": 12,
   "id": "ccc5c3a7-7242-46af-bb57-284b3dc74072",
   "metadata": {},
   "outputs": [
    {
     "name": "stdout",
     "output_type": "stream",
     "text": [
      "isPositive: True\n",
      "isPositive: True\n",
      "Line details: A = 1000, B = -1000, C = 1000000\n"
     ]
    },
    {
     "ename": "NameError",
     "evalue": "name 'line' is not defined",
     "output_type": "error",
     "traceback": [
      "\u001b[0;31m---------------------------------------------------------------------------\u001b[0m",
      "\u001b[0;31mNameError\u001b[0m                                 Traceback (most recent call last)",
      "Input \u001b[0;32mIn [12]\u001b[0m, in \u001b[0;36m<cell line: 73>\u001b[0;34m()\u001b[0m\n\u001b[1;32m     69\u001b[0m \u001b[38;5;28;01mfor\u001b[39;00m point \u001b[38;5;129;01min\u001b[39;00m points:\n\u001b[1;32m     70\u001b[0m     \u001b[38;5;28mprint\u001b[39m(\u001b[38;5;124mf\u001b[39m\u001b[38;5;124m'\u001b[39m\u001b[38;5;124misPositive: \u001b[39m\u001b[38;5;132;01m{\u001b[39;00mline\u001b[38;5;241m.\u001b[39mis_positive_side(point)\u001b[38;5;132;01m}\u001b[39;00m\u001b[38;5;124m'\u001b[39m)\n\u001b[0;32m---> 73\u001b[0m \u001b[43mvisualize\u001b[49m\u001b[43m(\u001b[49m\u001b[43mpoints\u001b[49m\u001b[43m,\u001b[49m\u001b[43m \u001b[49m\u001b[43m[\u001b[49m\u001b[43mline\u001b[49m\u001b[43m,\u001b[49m\u001b[43m \u001b[49m\u001b[43mline2\u001b[49m\u001b[43m]\u001b[49m\u001b[43m)\u001b[49m\n",
      "Input \u001b[0;32mIn [12]\u001b[0m, in \u001b[0;36mvisualize\u001b[0;34m(points, lines)\u001b[0m\n\u001b[1;32m     18\u001b[0m x \u001b[38;5;241m=\u001b[39m np\u001b[38;5;241m.\u001b[39mlinspace(\u001b[38;5;241m8000\u001b[39m, \u001b[38;5;241m11000\u001b[39m, \u001b[38;5;241m10\u001b[39m)\n\u001b[1;32m     20\u001b[0m \u001b[38;5;28;01mfor\u001b[39;00m line \u001b[38;5;129;01min\u001b[39;00m lines:\n\u001b[0;32m---> 21\u001b[0m     \u001b[43mline\u001b[49m\u001b[38;5;241;43m.\u001b[39;49m\u001b[43mprint_details\u001b[49m\u001b[43m(\u001b[49m\u001b[43m)\u001b[49m\n\u001b[1;32m     22\u001b[0m     A, B, C \u001b[38;5;241m=\u001b[39m line\u001b[38;5;241m.\u001b[39mA, line\u001b[38;5;241m.\u001b[39mB, line\u001b[38;5;241m.\u001b[39mC  \u001b[38;5;66;03m# Изменили эту строку\u001b[39;00m\n\u001b[1;32m     24\u001b[0m     \u001b[38;5;66;03m# If B is not zero, compute y normally. Otherwise, draw a vertical line.\u001b[39;00m\n",
      "File \u001b[0;32m/home/faults/faultProject/line.py:50\u001b[0m, in \u001b[0;36mLine.print_details\u001b[0;34m(self)\u001b[0m\n\u001b[1;32m     48\u001b[0m \u001b[38;5;28;01mdef\u001b[39;00m \u001b[38;5;21mprint_details\u001b[39m(\u001b[38;5;28mself\u001b[39m):\n\u001b[1;32m     49\u001b[0m     \u001b[38;5;28mprint\u001b[39m(\u001b[38;5;124mf\u001b[39m\u001b[38;5;124m'\u001b[39m\u001b[38;5;124mLine details: A = \u001b[39m\u001b[38;5;132;01m{\u001b[39;00m\u001b[38;5;28mself\u001b[39m\u001b[38;5;241m.\u001b[39mA\u001b[38;5;132;01m}\u001b[39;00m\u001b[38;5;124m, B = \u001b[39m\u001b[38;5;132;01m{\u001b[39;00m\u001b[38;5;28mself\u001b[39m\u001b[38;5;241m.\u001b[39mB\u001b[38;5;132;01m}\u001b[39;00m\u001b[38;5;124m, C = \u001b[39m\u001b[38;5;132;01m{\u001b[39;00m\u001b[38;5;28mself\u001b[39m\u001b[38;5;241m.\u001b[39mC\u001b[38;5;132;01m}\u001b[39;00m\u001b[38;5;124m'\u001b[39m)\n\u001b[0;32m---> 50\u001b[0m     \u001b[38;5;28mprint\u001b[39m(\u001b[38;5;124mf\u001b[39m\u001b[38;5;124m'\u001b[39m\u001b[38;5;124misPositive: \u001b[39m\u001b[38;5;132;01m{\u001b[39;00mline\u001b[38;5;241m.\u001b[39mis_positive_side(point)\u001b[38;5;132;01m}\u001b[39;00m\u001b[38;5;124m'\u001b[39m)\n\u001b[1;32m     51\u001b[0m     angle \u001b[38;5;241m=\u001b[39m \u001b[38;5;28mself\u001b[39m\u001b[38;5;241m.\u001b[39mget_angle()\n\u001b[1;32m     52\u001b[0m     \u001b[38;5;28;01mif\u001b[39;00m angle \u001b[38;5;129;01mis\u001b[39;00m \u001b[38;5;129;01mnot\u001b[39;00m \u001b[38;5;28;01mNone\u001b[39;00m:\n",
      "\u001b[0;31mNameError\u001b[0m: name 'line' is not defined"
     ]
    }
   ],
   "source": [
    "import matplotlib.pyplot as plt\n",
    "import numpy as np\n",
    "from geometry import Line, Point2D\n",
    "\n",
    "def define_points():\n",
    "    points = [\n",
    "        #Point2D(9999.000000001313, 10199.8134765625),\n",
    "        #Point2D(10002.000000001324, 7486.134356717739),\n",
    "        Point2D(10000, 9000),\n",
    "        Point2D(9000, 8000),\n",
    "        #Point2D(11000, 10000),\n",
    "        #Point2D(10002.000000001324, 10199.5546875)\n",
    "    ]\n",
    "    return points\n",
    "\n",
    "# Plot each line\n",
    "def visualize(points, lines):\n",
    "    x = np.linspace(8000, 11000, 10)\n",
    "\n",
    "    for line in lines:\n",
    "        line.print_details()\n",
    "        A, B, C = line.A, line.B, line.C  # Изменили эту строку\n",
    "\n",
    "        # If B is not zero, compute y normally. Otherwise, draw a vertical line.\n",
    "        if B != 0:\n",
    "            y = (C - A * x) / B\n",
    "            plt.plot(x, y, '-g', label='Line')\n",
    "        else:\n",
    "            plt.axvline(x=-C / A, color='r', label='Line')\n",
    "\n",
    "    # Plot the points and label them\n",
    "    for i, point in enumerate(points):\n",
    "        plt.plot(point.tvd, point.md, 'bo')\n",
    "        plt.text(point.tvd, point.md, f'P: {i + 1}')\n",
    "\n",
    "    plt.title('Lines with points')\n",
    "    plt.xlabel('md')\n",
    "    plt.ylabel('tvd')\n",
    "    plt.legend(loc='best')\n",
    "    plt.grid()\n",
    "\n",
    "    plt.show()\n",
    "\n",
    "points = define_points()\n",
    "\n",
    "# Initialize the line\n",
    "\n",
    "# A vertical line at x = 10000\n",
    "#line = Line(1, 0, -10000)\n",
    "#line = Line(1, 0, -10001.00000000132)\n",
    "\n",
    "# a horizontal line\n",
    "#line = Line(-0.5587890625, -3.400000000010914, -34187.07226573666)\n",
    "#surfaceLine\n",
    "#line = Line(-0.2587890625, -3.000000000010914, -33187.07226573666)\n",
    "\n",
    "\n",
    "#line = Line(-57.28996163075955, 1.0, 580500.3305876505)\n",
    "#line = Line.from_angle_point(45, 9000, 10000)\n",
    "#line = Line.from_angle_point(45, 10000, 9000)\n",
    "\n",
    "#line = Line.from_two_points(10000, 10000, 9000, 10000)\n",
    "\n",
    "\n",
    "line = Line.from_two_points(points[0], points[1]) # A = 1000, B = -1000, C = 1000000, 45.0 degrees\n",
    "line2 = Line.from_angle_point(45, points[0]) # wrong\n",
    "\n",
    "# Print whether each point is on the positive side of the line\n",
    "for point in points:\n",
    "    print(f'isPositive: {line.is_positive_side(point)}')\n",
    "\n",
    "\n",
    "visualize(points, [line, line2])"
   ]
  },
  {
   "cell_type": "code",
   "execution_count": null,
   "id": "0b1a3ef0-ef7b-43f6-b1d6-9e9a487734cd",
   "metadata": {},
   "outputs": [],
   "source": []
  }
 ],
 "metadata": {
  "kernelspec": {
   "display_name": "Python 3 (ipykernel)",
   "language": "python",
   "name": "python3"
  },
  "language_info": {
   "codemirror_mode": {
    "name": "ipython",
    "version": 3
   },
   "file_extension": ".py",
   "mimetype": "text/x-python",
   "name": "python",
   "nbconvert_exporter": "python",
   "pygments_lexer": "ipython3",
   "version": "3.9.12"
  }
 },
 "nbformat": 4,
 "nbformat_minor": 5
}
