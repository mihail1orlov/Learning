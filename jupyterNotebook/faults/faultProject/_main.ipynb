{
 "cells": [
  {
   "cell_type": "code",
   "execution_count": 15,
   "id": "ccc5c3a7-7242-46af-bb57-284b3dc74072",
   "metadata": {},
   "outputs": [
    {
     "name": "stdout",
     "output_type": "stream",
     "text": [
      "x: [   0. 9500.]\n",
      "y: [-1000.  8500.]\n",
      "g - isPositive: True\n",
      "g - isPositive: True\n",
      "y: [-6320.50807569 -3774.99074759]\n",
      "r - isPositive: False\n",
      "r - isPositive: False\n",
      "y: [ 47712.81819618 101589.99548255]\n",
      "y - isPositive: True\n",
      "y - isPositive: True\n"
     ]
    },
    {
     "data": {
      "image/png": "[encoded data removed]",
      "text/plain": [
       "<Figure size 432x288 with 1 Axes>"
      ]
     },
     "metadata": {
      "needs_background": "light"
     },
     "output_type": "display_data"
    }
   ],
   "source": [
    "import matplotlib.pyplot as plt\n",
    "import numpy as np\n",
    "from geometry import Line, Point2D\n",
    "\n",
    "def define_points():\n",
    "    points = [\n",
    "        #Point2D(9999.000000001313, 10199.8134765625),\n",
    "        #Point2D(10002.000000001324, 7486.134356717739),\n",
    "        Point2D(10000, 9000),\n",
    "        Point2D(9000, 8000),\n",
    "        #Point2D(11000, 10000),\n",
    "        #Point2D(10002.000000001324, 10199.5546875)\n",
    "    ]\n",
    "    return points\n",
    "\n",
    "# Plot each line\n",
    "def visualize(points, lines):\n",
    "    x = np.linspace(0, 9500, 2)\n",
    "    print(f'x: {x}')\n",
    "\n",
    "    for line in lines:\n",
    "        A, B, C = line.A, line.B, line.C\n",
    "\n",
    "        # If B is not zero, compute y normally. Otherwise, draw a vertical line.\n",
    "        if B != 0:\n",
    "            y = (C - A * x) / B\n",
    "            print(f'y: {y}')\n",
    "            plt.plot(x, y, line.color, label=line.name)\n",
    "        else:\n",
    "            plt.axvline(x=-C / A, color=line.color, label=line.name)\n",
    "            \n",
    "        # Print whether each point is on the positive side of the line\n",
    "        for point in points:\n",
    "            print(f'{line.name} - isPositive: {line.is_positive_side(point)}')\n",
    "\n",
    "    # Plot the points and label them\n",
    "    for i, point in enumerate(points):\n",
    "        plt.plot(point.tvd, point.md, 'bo')\n",
    "        plt.text(point.tvd, point.md, f'P: {i + 1}')\n",
    "\n",
    "    plt.title('Lines with points')\n",
    "    plt.xlabel('md')\n",
    "    plt.ylabel('tvd')\n",
    "    plt.legend(loc='best')\n",
    "    plt.grid()\n",
    "\n",
    "    plt.show()\n",
    "\n",
    "points = define_points()\n",
    "\n",
    "# Initialize the line\n",
    "\n",
    "# A vertical line at x = 10000\n",
    "#line = Line(1, 0, -10000)\n",
    "#line = Line(1, 0, -10001.00000000132)\n",
    "\n",
    "# a horizontal line\n",
    "#line = Line(-0.5587890625, -3.400000000010914, -34187.07226573666)\n",
    "#surfaceLine\n",
    "#line = Line(-0.2587890625, -3.000000000010914, -33187.07226573666)\n",
    "\n",
    "\n",
    "#line = Line(-57.28996163075955, 1.0, 580500.3305876505)\n",
    "#line = Line.from_angle_point(45, 9000, 10000)\n",
    "#line = Line.from_angle_point(45, 10000, 9000)\n",
    "\n",
    "#line = Line.from_two_points(10000, 10000, 9000, 10000)\n",
    "\n",
    "\n",
    "line = Line.from_two_points(points[0], points[1]) # A = 1000, B = -1000, C = 1000000, 45.0 degrees\n",
    "line.name = 'g'\n",
    "line.color = '-g'\n",
    "\n",
    "line_r = Line.from_angle_point(15, points[0]) # wrong\n",
    "line_r.name = 'r'\n",
    "line_r.color = '-r'\n",
    "\n",
    "line_y = Line.from_angle_point(80, points[0]) # wrong\n",
    "line_y.name = 'y'\n",
    "line_y.color = '-y'\n",
    "\n",
    "visualize(points, [line, line_r, line_y])"
   ]
  },
  {
   "cell_type": "code",
   "execution_count": null,
   "id": "0b1a3ef0-ef7b-43f6-b1d6-9e9a487734cd",
   "metadata": {},
   "outputs": [],
   "source": []
  }
 ],
 "metadata": {
  "kernelspec": {
   "display_name": "Python 3 (ipykernel)",
   "language": "python",
   "name": "python3"
  },
  "language_info": {
   "codemirror_mode": {
    "name": "ipython",
    "version": 3
   },
   "file_extension": ".py",
   "mimetype": "text/x-python",
   "name": "python",
   "nbconvert_exporter": "python",
   "pygments_lexer": "ipython3",
   "version": "3.9.12"
  }
 },
 "nbformat": 4,
 "nbformat_minor": 5
}
